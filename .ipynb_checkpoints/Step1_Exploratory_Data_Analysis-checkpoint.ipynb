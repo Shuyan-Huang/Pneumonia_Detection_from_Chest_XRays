{
 "cells": [
  {
   "cell_type": "markdown",
   "metadata": {},
   "source": [
    "### Content:\n",
    "- [Part 1: Demographic Distribution](#Part-1:-Demographic-Distribution)\n",
    "    - [1.1 Distribution of Gender](#1.1-Distribution-of-Gender)\n",
    "    - [1.2 Distribution of Age](#1.2-Distribution-of-Age)\n",
    "- [Part 2: Disease Distribution and Comorbidity](#Part-2:-Disease-Distribution-and-Comorbidity)     \n",
    "    - [2.1 Diseases Distribution](#2.1-Diseases-Distribution)\n",
    "    - [2.2 Number of Diseases per Patient](#2.2-Number-of-Diseases-per-Patient)\n",
    "    - [2.3 Comorbidity](#2.3-Comorbidity)   \n",
    "    \n",
    "- [Part 3: Pixel-level assessments](#Part-3:-Pixel-Level-Assessments)\n"
   ]
  },
  {
   "cell_type": "code",
   "execution_count": 1,
   "metadata": {},
   "outputs": [],
   "source": [
    "import os\n",
    "import glob\n",
    "\n",
    "import pandas as pd\n",
    "import numpy as np\n",
    "\n",
    "import seaborn as sns\n",
    "import matplotlib.pyplot as plt\n",
    "\n",
    "from itertools import chain\n",
    "from sklearn.model_selection import train_test_split"
   ]
  },
  {
   "cell_type": "markdown",
   "metadata": {},
   "source": [
    "## Part 0: Data Loading"
   ]
  },
  {
   "cell_type": "code",
   "execution_count": 2,
   "metadata": {
    "scrolled": true
   },
   "outputs": [
    {
     "data": {
      "text/html": [
       "<div>\n",
       "<style scoped>\n",
       "    .dataframe tbody tr th:only-of-type {\n",
       "        vertical-align: middle;\n",
       "    }\n",
       "\n",
       "    .dataframe tbody tr th {\n",
       "        vertical-align: top;\n",
       "    }\n",
       "\n",
       "    .dataframe thead th {\n",
       "        text-align: right;\n",
       "    }\n",
       "</style>\n",
       "<table border=\"1\" class=\"dataframe\">\n",
       "  <thead>\n",
       "    <tr style=\"text-align: right;\">\n",
       "      <th></th>\n",
       "      <th>Image Index</th>\n",
       "      <th>Finding Labels</th>\n",
       "      <th>Follow-up #</th>\n",
       "      <th>Patient ID</th>\n",
       "      <th>Patient Age</th>\n",
       "      <th>Patient Gender</th>\n",
       "      <th>View Position</th>\n",
       "      <th>OriginalImage[Width</th>\n",
       "      <th>Height]</th>\n",
       "      <th>OriginalImagePixelSpacing_x</th>\n",
       "      <th>OriginalImagePixelSpacing_y</th>\n",
       "    </tr>\n",
       "  </thead>\n",
       "  <tbody>\n",
       "    <tr>\n",
       "      <th>108980</th>\n",
       "      <td>00029596_002.png</td>\n",
       "      <td>Effusion</td>\n",
       "      <td>2</td>\n",
       "      <td>29596</td>\n",
       "      <td>34</td>\n",
       "      <td>F</td>\n",
       "      <td>AP</td>\n",
       "      <td>3056</td>\n",
       "      <td>2544</td>\n",
       "      <td>0.139</td>\n",
       "      <td>0.139</td>\n",
       "    </tr>\n",
       "    <tr>\n",
       "      <th>51043</th>\n",
       "      <td>00012899_008.png</td>\n",
       "      <td>Effusion|Infiltration</td>\n",
       "      <td>8</td>\n",
       "      <td>12899</td>\n",
       "      <td>16</td>\n",
       "      <td>F</td>\n",
       "      <td>PA</td>\n",
       "      <td>2574</td>\n",
       "      <td>2809</td>\n",
       "      <td>0.143</td>\n",
       "      <td>0.143</td>\n",
       "    </tr>\n",
       "    <tr>\n",
       "      <th>86042</th>\n",
       "      <td>00021216_000.png</td>\n",
       "      <td>No Finding</td>\n",
       "      <td>0</td>\n",
       "      <td>21216</td>\n",
       "      <td>35</td>\n",
       "      <td>F</td>\n",
       "      <td>PA</td>\n",
       "      <td>2550</td>\n",
       "      <td>2385</td>\n",
       "      <td>0.143</td>\n",
       "      <td>0.143</td>\n",
       "    </tr>\n",
       "  </tbody>\n",
       "</table>\n",
       "</div>"
      ],
      "text/plain": [
       "             Image Index         Finding Labels  Follow-up #  Patient ID  \\\n",
       "108980  00029596_002.png               Effusion            2       29596   \n",
       "51043   00012899_008.png  Effusion|Infiltration            8       12899   \n",
       "86042   00021216_000.png             No Finding            0       21216   \n",
       "\n",
       "        Patient Age Patient Gender View Position  OriginalImage[Width  \\\n",
       "108980           34              F            AP                 3056   \n",
       "51043            16              F            PA                 2574   \n",
       "86042            35              F            PA                 2550   \n",
       "\n",
       "        Height]  OriginalImagePixelSpacing_x  OriginalImagePixelSpacing_y  \n",
       "108980     2544                        0.139                        0.139  \n",
       "51043      2809                        0.143                        0.143  \n",
       "86042      2385                        0.143                        0.143  "
      ]
     },
     "execution_count": 2,
     "metadata": {},
     "output_type": "execute_result"
    }
   ],
   "source": [
    "# load the whole NIH dataset\n",
    "all_xray_df = pd.read_csv('../data/Data_Entry_2017.csv')\n",
    "all_xray_df.sample(3)"
   ]
  },
  {
   "cell_type": "code",
   "execution_count": 3,
   "metadata": {},
   "outputs": [
    {
     "name": "stdout",
     "output_type": "stream",
     "text": [
      "The size of the whole dataset:  (112120, 11)\n"
     ]
    }
   ],
   "source": [
    "print('The size of the whole dataset: ', all_xray_df.shape)"
   ]
  },
  {
   "cell_type": "code",
   "execution_count": 4,
   "metadata": {
    "scrolled": true
   },
   "outputs": [
    {
     "name": "stdout",
     "output_type": "stream",
     "text": [
      "All labels (15): ['Atelectasis' 'Cardiomegaly' 'Consolidation' 'Edema' 'Effusion'\n",
      " 'Emphysema' 'Fibrosis' 'Hernia' 'Infiltration' 'Mass' 'No Finding'\n",
      " 'Nodule' 'Pleural_Thickening' 'Pneumonia' 'Pneumothorax']\n"
     ]
    },
    {
     "data": {
      "text/html": [
       "<div>\n",
       "<style scoped>\n",
       "    .dataframe tbody tr th:only-of-type {\n",
       "        vertical-align: middle;\n",
       "    }\n",
       "\n",
       "    .dataframe tbody tr th {\n",
       "        vertical-align: top;\n",
       "    }\n",
       "\n",
       "    .dataframe thead th {\n",
       "        text-align: right;\n",
       "    }\n",
       "</style>\n",
       "<table border=\"1\" class=\"dataframe\">\n",
       "  <thead>\n",
       "    <tr style=\"text-align: right;\">\n",
       "      <th></th>\n",
       "      <th>Image Index</th>\n",
       "      <th>Finding Labels</th>\n",
       "      <th>Follow-up #</th>\n",
       "      <th>Patient ID</th>\n",
       "      <th>Patient Age</th>\n",
       "      <th>Patient Gender</th>\n",
       "      <th>View Position</th>\n",
       "      <th>OriginalImage[Width</th>\n",
       "      <th>Height]</th>\n",
       "      <th>OriginalImagePixelSpacing_x</th>\n",
       "      <th>...</th>\n",
       "      <th>Emphysema</th>\n",
       "      <th>Fibrosis</th>\n",
       "      <th>Hernia</th>\n",
       "      <th>Infiltration</th>\n",
       "      <th>Mass</th>\n",
       "      <th>No Finding</th>\n",
       "      <th>Nodule</th>\n",
       "      <th>Pleural_Thickening</th>\n",
       "      <th>Pneumonia</th>\n",
       "      <th>Pneumothorax</th>\n",
       "    </tr>\n",
       "  </thead>\n",
       "  <tbody>\n",
       "    <tr>\n",
       "      <th>88755</th>\n",
       "      <td>00021994_002.png</td>\n",
       "      <td>No Finding</td>\n",
       "      <td>2</td>\n",
       "      <td>21994</td>\n",
       "      <td>51</td>\n",
       "      <td>F</td>\n",
       "      <td>PA</td>\n",
       "      <td>2992</td>\n",
       "      <td>2991</td>\n",
       "      <td>0.143</td>\n",
       "      <td>...</td>\n",
       "      <td>0</td>\n",
       "      <td>0</td>\n",
       "      <td>0</td>\n",
       "      <td>0</td>\n",
       "      <td>0</td>\n",
       "      <td>1</td>\n",
       "      <td>0</td>\n",
       "      <td>0</td>\n",
       "      <td>0</td>\n",
       "      <td>0</td>\n",
       "    </tr>\n",
       "    <tr>\n",
       "      <th>104399</th>\n",
       "      <td>00027920_000.png</td>\n",
       "      <td>No Finding</td>\n",
       "      <td>0</td>\n",
       "      <td>27920</td>\n",
       "      <td>52</td>\n",
       "      <td>F</td>\n",
       "      <td>PA</td>\n",
       "      <td>2518</td>\n",
       "      <td>2991</td>\n",
       "      <td>0.143</td>\n",
       "      <td>...</td>\n",
       "      <td>0</td>\n",
       "      <td>0</td>\n",
       "      <td>0</td>\n",
       "      <td>0</td>\n",
       "      <td>0</td>\n",
       "      <td>1</td>\n",
       "      <td>0</td>\n",
       "      <td>0</td>\n",
       "      <td>0</td>\n",
       "      <td>0</td>\n",
       "    </tr>\n",
       "    <tr>\n",
       "      <th>42182</th>\n",
       "      <td>00010847_000.png</td>\n",
       "      <td>No Finding</td>\n",
       "      <td>0</td>\n",
       "      <td>10847</td>\n",
       "      <td>68</td>\n",
       "      <td>F</td>\n",
       "      <td>PA</td>\n",
       "      <td>2642</td>\n",
       "      <td>2413</td>\n",
       "      <td>0.143</td>\n",
       "      <td>...</td>\n",
       "      <td>0</td>\n",
       "      <td>0</td>\n",
       "      <td>0</td>\n",
       "      <td>0</td>\n",
       "      <td>0</td>\n",
       "      <td>1</td>\n",
       "      <td>0</td>\n",
       "      <td>0</td>\n",
       "      <td>0</td>\n",
       "      <td>0</td>\n",
       "    </tr>\n",
       "  </tbody>\n",
       "</table>\n",
       "<p>3 rows × 26 columns</p>\n",
       "</div>"
      ],
      "text/plain": [
       "             Image Index Finding Labels  Follow-up #  Patient ID  Patient Age  \\\n",
       "88755   00021994_002.png     No Finding            2       21994           51   \n",
       "104399  00027920_000.png     No Finding            0       27920           52   \n",
       "42182   00010847_000.png     No Finding            0       10847           68   \n",
       "\n",
       "       Patient Gender View Position  OriginalImage[Width  Height]  \\\n",
       "88755               F            PA                 2992     2991   \n",
       "104399              F            PA                 2518     2991   \n",
       "42182               F            PA                 2642     2413   \n",
       "\n",
       "        OriginalImagePixelSpacing_x  ...  Emphysema  Fibrosis  Hernia  \\\n",
       "88755                         0.143  ...          0         0       0   \n",
       "104399                        0.143  ...          0         0       0   \n",
       "42182                         0.143  ...          0         0       0   \n",
       "\n",
       "        Infiltration  Mass  No Finding  Nodule  Pleural_Thickening  Pneumonia  \\\n",
       "88755              0     0           1       0                   0          0   \n",
       "104399             0     0           1       0                   0          0   \n",
       "42182              0     0           1       0                   0          0   \n",
       "\n",
       "        Pneumothorax  \n",
       "88755              0  \n",
       "104399             0  \n",
       "42182              0  \n",
       "\n",
       "[3 rows x 26 columns]"
      ]
     },
     "execution_count": 4,
     "metadata": {},
     "output_type": "execute_result"
    }
   ],
   "source": [
    "# Find all unique labels\n",
    "all_labels = np.unique(list(chain(*all_xray_df['Finding Labels'].map(lambda x: x.split('|')).tolist())))\n",
    "print('All labels ({}): {}'.format(len(all_labels), all_labels))\n",
    "\n",
    "# Encoding\n",
    "for label in all_labels:\n",
    "    all_xray_df[label] = all_xray_df['Finding Labels'].map(lambda finding: 1 if label in finding else 0)\n",
    "    \n",
    "all_xray_df.sample(3)"
   ]
  },
  {
   "cell_type": "code",
   "execution_count": 5,
   "metadata": {},
   "outputs": [],
   "source": [
    "# Split to training and validation datasets, stratify according to 'Pneumonia' column\n",
    "train_data, val_data = train_test_split(all_xray_df, test_size=0.2, stratify=all_xray_df['Pneumonia'])"
   ]
  },
  {
   "cell_type": "markdown",
   "metadata": {},
   "source": [
    "## Part 1: Demographic Distribution\n",
    "\n",
    "[Go back to top](#Content:)\n",
    "\n",
    "### 1.1 Distribution of Gender"
   ]
  },
  {
   "cell_type": "code",
   "execution_count": 6,
   "metadata": {},
   "outputs": [
    {
     "data": {
      "text/plain": [
       "Text(0.5, 0, 'Gender')"
      ]
     },
     "execution_count": 6,
     "metadata": {},
     "output_type": "execute_result"
    },
    {
     "data": {
      "image/png": "[encoded data removed]",
      "text/plain": [
       "<Figure size 1152x360 with 3 Axes>"
      ]
     },
     "metadata": {
      "needs_background": "light"
     },
     "output_type": "display_data"
    }
   ],
   "source": [
    "plt.figure(figsize=(16, 5))\n",
    "\n",
    "plt.subplot(131)\n",
    "all_xray_df[\"Patient Gender\"].value_counts().plot(kind='bar')\n",
    "plt.title('Whole Population', fontsize=12)\n",
    "plt.xlabel('Gender', fontsize=12)\n",
    "plt.ylabel('Count', fontsize=12)\n",
    "\n",
    "plt.subplot(132)\n",
    "all_xray_df[all_xray_df.Pneumonia==1]['Patient Gender'].value_counts().plot(kind='bar')\n",
    "plt.title('Pneumonia Patients', fontsize=12)\n",
    "plt.xlabel('Gender', fontsize=12)\n",
    "\n",
    "plt.subplot(133)\n",
    "all_xray_df[all_xray_df.Pneumonia==0]['Patient Gender'].value_counts().plot(kind='bar')\n",
    "plt.title('Non-Pneumonia Patients', fontsize=12)\n",
    "plt.xlabel('Gender', fontsize=12)"
   ]
  },
  {
   "cell_type": "markdown",
   "metadata": {},
   "source": [
    "### 1.2 Distribution of Age"
   ]
  },
  {
   "cell_type": "code",
   "execution_count": 7,
   "metadata": {},
   "outputs": [
    {
     "data": {
      "text/plain": [
       "Text(0.5, 0, 'Age')"
      ]
     },
     "execution_count": 7,
     "metadata": {},
     "output_type": "execute_result"
    },
    {
     "data": {
      "image/png": "[encoded data removed]",
      "text/plain": [
       "<Figure size 1152x360 with 3 Axes>"
      ]
     },
     "metadata": {
      "needs_background": "light"
     },
     "output_type": "display_data"
    }
   ],
   "source": [
    "plt.figure(figsize=(16, 5))\n",
    "\n",
    "plt.subplot(131)\n",
    "plt.hist(all_xray_df['Patient Age'], range=[0, 100])\n",
    "plt.title('Whole Population', fontsize=12)\n",
    "plt.xlabel('Age', fontsize=12)\n",
    "plt.ylabel('Count', fontsize=12)\n",
    "\n",
    "plt.subplot(132)\n",
    "plt.hist(all_xray_df[all_xray_df.Pneumonia==1]['Patient Age'], range=[0, 100])\n",
    "plt.title('Pneumonia Patients')\n",
    "plt.xlabel('Age', fontsize=12)\n",
    "\n",
    "plt.subplot(133)\n",
    "plt.hist(all_xray_df[all_xray_df.Pneumonia==0]['Patient Age'], range=[0, 100])\n",
    "plt.title('Non-Pneumonia Patients')\n",
    "plt.xlabel('Age', fontsize=12)"
   ]
  },
  {
   "cell_type": "markdown",
   "metadata": {},
   "source": [
    "## Part 2: Disease Distribution and Comorbidity\n",
    "\n",
    "[Go back to top](#Content:)\n",
    "\n",
    "### 2.1 Diseases Distribution"
   ]
  },
  {
   "cell_type": "code",
   "execution_count": 8,
   "metadata": {},
   "outputs": [
    {
     "data": {
      "text/plain": [
       "Text(0, 0.5, 'Count')"
      ]
     },
     "execution_count": 8,
     "metadata": {},
     "output_type": "execute_result"
    },
    {
     "data": {
      "image/png": "[encoded data removed]",
      "text/plain": [
       "<Figure size 576x360 with 1 Axes>"
      ]
     },
     "metadata": {
      "needs_background": "light"
     },
     "output_type": "display_data"
    }
   ],
   "source": [
    "plt.figure(figsize=(8, 5))\n",
    "all_xray_df[all_labels].sum().plot(kind='bar')\n",
    "plt.title('Disease Distribution of Whole Population', fontsize=12)\n",
    "plt.xlabel('Disease', fontsize=12)\n",
    "plt.ylabel('Count', fontsize=12)"
   ]
  },
  {
   "cell_type": "code",
   "execution_count": 9,
   "metadata": {},
   "outputs": [
    {
     "name": "stdout",
     "output_type": "stream",
     "text": [
      "The percentage of patients with no findings: 53.84%\n",
      "\n",
      "The number of Pneumonia cases = 1431 which takes 1.28% of the whole population.\n",
      "\n",
      "The number of Pneumonia cases = 110689 which takes 98.72% of the whole population.\n",
      "\n"
     ]
    }
   ],
   "source": [
    "no_finding_p = all_xray_df['No Finding'].sum() / len(all_xray_df)\n",
    "print('The percentage of patients with no findings: {:.2f}%\\n'.format(no_finding_p*100))\n",
    "\n",
    "pneu_num = all_xray_df['Pneumonia'].sum()\n",
    "pneu_p = pneu_num / len(all_xray_df)\n",
    "print('The number of Pneumonia cases = {} which takes {:.2f}% of the whole population.\\n'.format(pneu_num, pneu_p*100))\n",
    "\n",
    "non_pneu_num = len(all_xray_df)-pneu_num\n",
    "non_pneu_p = 1 - pneu_p\n",
    "print('The number of Pneumonia cases = {} which takes {:.2f}% of the whole population.\\n'.format(non_pneu_num, non_pneu_p*100))"
   ]
  },
  {
   "cell_type": "code",
   "execution_count": 10,
   "metadata": {},
   "outputs": [
    {
     "data": {
      "text/plain": [
       "Text(0.5, 0, 'Disease')"
      ]
     },
     "execution_count": 10,
     "metadata": {},
     "output_type": "execute_result"
    },
    {
     "data": {
      "image/png": "[encoded data removed]",
      "text/plain": [
       "<Figure size 1152x360 with 2 Axes>"
      ]
     },
     "metadata": {
      "needs_background": "light"
     },
     "output_type": "display_data"
    }
   ],
   "source": [
    "plt.figure(figsize=(16, 5))\n",
    "\n",
    "plt.subplot(121)\n",
    "train_data[all_labels].sum().plot(kind='bar')\n",
    "plt.title('Training Dataset', fontsize=12)\n",
    "plt.xlabel('Disease', fontsize=12)\n",
    "plt.ylabel('Count', fontsize=12)\n",
    "\n",
    "plt.subplot(122)\n",
    "val_data[all_labels].sum().plot(kind='bar')\n",
    "plt.title('Validation Dataset', fontsize=12)\n",
    "plt.xlabel('Disease', fontsize=12)"
   ]
  },
  {
   "cell_type": "markdown",
   "metadata": {},
   "source": [
    "### 2.2 Number of Diseases per Patient"
   ]
  },
  {
   "cell_type": "code",
   "execution_count": 11,
   "metadata": {},
   "outputs": [
    {
     "data": {
      "text/html": [
       "<div>\n",
       "<style scoped>\n",
       "    .dataframe tbody tr th:only-of-type {\n",
       "        vertical-align: middle;\n",
       "    }\n",
       "\n",
       "    .dataframe tbody tr th {\n",
       "        vertical-align: top;\n",
       "    }\n",
       "\n",
       "    .dataframe thead th {\n",
       "        text-align: right;\n",
       "    }\n",
       "</style>\n",
       "<table border=\"1\" class=\"dataframe\">\n",
       "  <thead>\n",
       "    <tr style=\"text-align: right;\">\n",
       "      <th></th>\n",
       "      <th>Image Index</th>\n",
       "      <th>Finding Labels</th>\n",
       "      <th>Follow-up #</th>\n",
       "      <th>Patient ID</th>\n",
       "      <th>Patient Age</th>\n",
       "      <th>Patient Gender</th>\n",
       "      <th>View Position</th>\n",
       "      <th>OriginalImage[Width</th>\n",
       "      <th>Height]</th>\n",
       "      <th>OriginalImagePixelSpacing_x</th>\n",
       "      <th>...</th>\n",
       "      <th>Fibrosis</th>\n",
       "      <th>Hernia</th>\n",
       "      <th>Infiltration</th>\n",
       "      <th>Mass</th>\n",
       "      <th>No Finding</th>\n",
       "      <th>Nodule</th>\n",
       "      <th>Pleural_Thickening</th>\n",
       "      <th>Pneumonia</th>\n",
       "      <th>Pneumothorax</th>\n",
       "      <th>Disease Count</th>\n",
       "    </tr>\n",
       "  </thead>\n",
       "  <tbody>\n",
       "    <tr>\n",
       "      <th>34064</th>\n",
       "      <td>00008914_000.png</td>\n",
       "      <td>No Finding</td>\n",
       "      <td>0</td>\n",
       "      <td>8914</td>\n",
       "      <td>44</td>\n",
       "      <td>F</td>\n",
       "      <td>PA</td>\n",
       "      <td>2500</td>\n",
       "      <td>2048</td>\n",
       "      <td>0.168</td>\n",
       "      <td>...</td>\n",
       "      <td>0</td>\n",
       "      <td>0</td>\n",
       "      <td>0</td>\n",
       "      <td>0</td>\n",
       "      <td>1</td>\n",
       "      <td>0</td>\n",
       "      <td>0</td>\n",
       "      <td>0</td>\n",
       "      <td>0</td>\n",
       "      <td>1</td>\n",
       "    </tr>\n",
       "    <tr>\n",
       "      <th>111087</th>\n",
       "      <td>00030323_014.png</td>\n",
       "      <td>No Finding</td>\n",
       "      <td>14</td>\n",
       "      <td>30323</td>\n",
       "      <td>31</td>\n",
       "      <td>F</td>\n",
       "      <td>AP</td>\n",
       "      <td>3056</td>\n",
       "      <td>2544</td>\n",
       "      <td>0.139</td>\n",
       "      <td>...</td>\n",
       "      <td>0</td>\n",
       "      <td>0</td>\n",
       "      <td>0</td>\n",
       "      <td>0</td>\n",
       "      <td>1</td>\n",
       "      <td>0</td>\n",
       "      <td>0</td>\n",
       "      <td>0</td>\n",
       "      <td>0</td>\n",
       "      <td>1</td>\n",
       "    </tr>\n",
       "    <tr>\n",
       "      <th>104765</th>\n",
       "      <td>00028071_002.png</td>\n",
       "      <td>Atelectasis</td>\n",
       "      <td>2</td>\n",
       "      <td>28071</td>\n",
       "      <td>58</td>\n",
       "      <td>M</td>\n",
       "      <td>AP</td>\n",
       "      <td>3056</td>\n",
       "      <td>2544</td>\n",
       "      <td>0.139</td>\n",
       "      <td>...</td>\n",
       "      <td>0</td>\n",
       "      <td>0</td>\n",
       "      <td>0</td>\n",
       "      <td>0</td>\n",
       "      <td>0</td>\n",
       "      <td>0</td>\n",
       "      <td>0</td>\n",
       "      <td>0</td>\n",
       "      <td>0</td>\n",
       "      <td>1</td>\n",
       "    </tr>\n",
       "  </tbody>\n",
       "</table>\n",
       "<p>3 rows × 27 columns</p>\n",
       "</div>"
      ],
      "text/plain": [
       "             Image Index Finding Labels  Follow-up #  Patient ID  Patient Age  \\\n",
       "34064   00008914_000.png     No Finding            0        8914           44   \n",
       "111087  00030323_014.png     No Finding           14       30323           31   \n",
       "104765  00028071_002.png    Atelectasis            2       28071           58   \n",
       "\n",
       "       Patient Gender View Position  OriginalImage[Width  Height]  \\\n",
       "34064               F            PA                 2500     2048   \n",
       "111087              F            AP                 3056     2544   \n",
       "104765              M            AP                 3056     2544   \n",
       "\n",
       "        OriginalImagePixelSpacing_x  ...  Fibrosis  Hernia  Infiltration  \\\n",
       "34064                         0.168  ...         0       0             0   \n",
       "111087                        0.139  ...         0       0             0   \n",
       "104765                        0.139  ...         0       0             0   \n",
       "\n",
       "        Mass  No Finding  Nodule  Pleural_Thickening  Pneumonia  Pneumothorax  \\\n",
       "34064      0           1       0                   0          0             0   \n",
       "111087     0           1       0                   0          0             0   \n",
       "104765     0           0       0                   0          0             0   \n",
       "\n",
       "        Disease Count  \n",
       "34064               1  \n",
       "111087              1  \n",
       "104765              1  \n",
       "\n",
       "[3 rows x 27 columns]"
      ]
     },
     "execution_count": 11,
     "metadata": {},
     "output_type": "execute_result"
    }
   ],
   "source": [
    "all_xray_df['Disease Count'] = all_xray_df[all_labels].sum(axis=1)\n",
    "all_xray_df.sample(3)"
   ]
  },
  {
   "cell_type": "code",
   "execution_count": 12,
   "metadata": {},
   "outputs": [
    {
     "name": "stdout",
     "output_type": "stream",
     "text": [
      "The average number of diseases per patient: 1.26\n"
     ]
    }
   ],
   "source": [
    "# Average number of diseases per patient\n",
    "average_count = all_xray_df['Disease Count'].sum() / len(all_xray_df)\n",
    "print('The average number of diseases per patient: {:.2f}'.format(average_count))"
   ]
  },
  {
   "cell_type": "code",
   "execution_count": 13,
   "metadata": {},
   "outputs": [
    {
     "data": {
      "text/plain": [
       "Text(0, 0.5, 'Patient Count')"
      ]
     },
     "execution_count": 13,
     "metadata": {},
     "output_type": "execute_result"
    },
    {
     "data": {
      "image/png": "[encoded data removed]",
      "text/plain": [
       "<Figure size 864x360 with 1 Axes>"
      ]
     },
     "metadata": {
      "needs_background": "light"
     },
     "output_type": "display_data"
    }
   ],
   "source": [
    "plt.figure(figsize=(12, 5))\n",
    "plt.hist(all_xray_df['Disease Count'])\n",
    "plt.title('Number of Diseases Histogram', fontsize=16)\n",
    "plt.xlabel('Number of Diseases', fontsize=12)\n",
    "plt.ylabel('Patient Count', fontsize=12)"
   ]
  },
  {
   "cell_type": "markdown",
   "metadata": {},
   "source": [
    "### 2.3 Comorbidity    "
   ]
  },
  {
   "cell_type": "code",
   "execution_count": 14,
   "metadata": {},
   "outputs": [
    {
     "data": {
      "text/plain": [
       "Text(0, 0.5, 'Count')"
      ]
     },
     "execution_count": 14,
     "metadata": {},
     "output_type": "execute_result"
    },
    {
     "data": {
      "image/png": "[encoded data removed]",
      "text/plain": [
       "<Figure size 864x360 with 1 Axes>"
      ]
     },
     "metadata": {
      "needs_background": "light"
     },
     "output_type": "display_data"
    }
   ],
   "source": [
    "# Top 20 most common co-occurrences with Pneumonia\n",
    "plt.figure(figsize=(12, 5))\n",
    "all_xray_df[all_xray_df.Pneumonia==1]['Finding Labels'].value_counts()[0:20].plot(kind='bar')\n",
    "plt.title('Top 20 Comorbid Diseases', fontsize=16)\n",
    "plt.xlabel('Finding Labels', fontsize=12)\n",
    "plt.ylabel('Count', fontsize=12)\n",
    "\n",
    "# The top three most common comorbidities are Infiltration, Edema and Atelectasis."
   ]
  },
  {
   "cell_type": "markdown",
   "metadata": {},
   "source": [
    "## Part 3: Pixel Level Assessments    \n",
    "[Go back to top](#Content:)"
   ]
  },
  {
   "cell_type": "code",
   "execution_count": 17,
   "metadata": {
    "scrolled": true
   },
   "outputs": [
    {
     "data": {
      "text/html": [
       "<div>\n",
       "<style scoped>\n",
       "    .dataframe tbody tr th:only-of-type {\n",
       "        vertical-align: middle;\n",
       "    }\n",
       "\n",
       "    .dataframe tbody tr th {\n",
       "        vertical-align: top;\n",
       "    }\n",
       "\n",
       "    .dataframe thead th {\n",
       "        text-align: right;\n",
       "    }\n",
       "</style>\n",
       "<table border=\"1\" class=\"dataframe\">\n",
       "  <thead>\n",
       "    <tr style=\"text-align: right;\">\n",
       "      <th></th>\n",
       "      <th>Image Index</th>\n",
       "      <th>Finding Labels</th>\n",
       "      <th>Follow-up #</th>\n",
       "      <th>Patient ID</th>\n",
       "      <th>Patient Age</th>\n",
       "      <th>Patient Gender</th>\n",
       "      <th>View Position</th>\n",
       "      <th>OriginalImageWidth</th>\n",
       "      <th>OriginalImageHeight</th>\n",
       "      <th>OriginalImagePixelSpacing_x</th>\n",
       "      <th>OriginalImagePixelSpacing_y</th>\n",
       "    </tr>\n",
       "  </thead>\n",
       "  <tbody>\n",
       "    <tr>\n",
       "      <th>5048</th>\n",
       "      <td>00026815_004.png</td>\n",
       "      <td>No Finding</td>\n",
       "      <td>4</td>\n",
       "      <td>26815</td>\n",
       "      <td>037Y</td>\n",
       "      <td>F</td>\n",
       "      <td>PA</td>\n",
       "      <td>2021</td>\n",
       "      <td>2021</td>\n",
       "      <td>0.194311</td>\n",
       "      <td>0.194311</td>\n",
       "    </tr>\n",
       "    <tr>\n",
       "      <th>4925</th>\n",
       "      <td>00025961_000.png</td>\n",
       "      <td>No Finding</td>\n",
       "      <td>0</td>\n",
       "      <td>25961</td>\n",
       "      <td>041Y</td>\n",
       "      <td>F</td>\n",
       "      <td>PA</td>\n",
       "      <td>2970</td>\n",
       "      <td>2991</td>\n",
       "      <td>0.143000</td>\n",
       "      <td>0.143000</td>\n",
       "    </tr>\n",
       "    <tr>\n",
       "      <th>5438</th>\n",
       "      <td>00029542_000.png</td>\n",
       "      <td>No Finding</td>\n",
       "      <td>0</td>\n",
       "      <td>29542</td>\n",
       "      <td>065Y</td>\n",
       "      <td>M</td>\n",
       "      <td>PA</td>\n",
       "      <td>2544</td>\n",
       "      <td>3056</td>\n",
       "      <td>0.139000</td>\n",
       "      <td>0.139000</td>\n",
       "    </tr>\n",
       "  </tbody>\n",
       "</table>\n",
       "</div>"
      ],
      "text/plain": [
       "           Image Index Finding Labels  Follow-up #  Patient ID Patient Age  \\\n",
       "5048  00026815_004.png     No Finding            4       26815        037Y   \n",
       "4925  00025961_000.png     No Finding            0       25961        041Y   \n",
       "5438  00029542_000.png     No Finding            0       29542        065Y   \n",
       "\n",
       "     Patient Gender View Position  OriginalImageWidth  OriginalImageHeight  \\\n",
       "5048              F            PA                2021                 2021   \n",
       "4925              F            PA                2970                 2991   \n",
       "5438              M            PA                2544                 3056   \n",
       "\n",
       "      OriginalImagePixelSpacing_x  OriginalImagePixelSpacing_y  \n",
       "5048                     0.194311                     0.194311  \n",
       "4925                     0.143000                     0.143000  \n",
       "5438                     0.139000                     0.139000  "
      ]
     },
     "execution_count": 17,
     "metadata": {},
     "output_type": "execute_result"
    }
   ],
   "source": [
    "# A sample dataset was used for pixel level assessments\n",
    "sample_df = pd.read_csv('../data/sample_labels.csv')\n",
    "sample_df.sample(3)"
   ]
  },
  {
   "cell_type": "code",
   "execution_count": 20,
   "metadata": {},
   "outputs": [
    {
     "data": {
      "text/plain": [
       "array(['Atelectasis', 'Cardiomegaly', 'Consolidation', 'Edema',\n",
       "       'Effusion', 'Emphysema', 'Fibrosis', 'Hernia', 'Infiltration',\n",
       "       'Mass', 'No Finding', 'Nodule', 'Pleural_Thickening', 'Pneumonia',\n",
       "       'Pneumothorax'], dtype='<U18')"
      ]
     },
     "execution_count": 20,
     "metadata": {},
     "output_type": "execute_result"
    }
   ],
   "source": [
    "all_labels"
   ]
  },
  {
   "cell_type": "code",
   "execution_count": 22,
   "metadata": {},
   "outputs": [],
   "source": [
    "selected_columns = np.array(['Image Index'] + list(all_labels))\n",
    "subset_all_df = all_xray_df[selected_columns]"
   ]
  },
  {
   "cell_type": "code",
   "execution_count": 45,
   "metadata": {},
   "outputs": [
    {
     "data": {
      "text/html": [
       "<div>\n",
       "<style scoped>\n",
       "    .dataframe tbody tr th:only-of-type {\n",
       "        vertical-align: middle;\n",
       "    }\n",
       "\n",
       "    .dataframe tbody tr th {\n",
       "        vertical-align: top;\n",
       "    }\n",
       "\n",
       "    .dataframe thead th {\n",
       "        text-align: right;\n",
       "    }\n",
       "</style>\n",
       "<table border=\"1\" class=\"dataframe\">\n",
       "  <thead>\n",
       "    <tr style=\"text-align: right;\">\n",
       "      <th></th>\n",
       "      <th>Image Index</th>\n",
       "      <th>Finding Labels</th>\n",
       "      <th>Follow-up #</th>\n",
       "      <th>Patient ID</th>\n",
       "      <th>Patient Age</th>\n",
       "      <th>Patient Gender</th>\n",
       "      <th>View Position</th>\n",
       "      <th>OriginalImageWidth</th>\n",
       "      <th>OriginalImageHeight</th>\n",
       "      <th>OriginalImagePixelSpacing_x</th>\n",
       "      <th>...</th>\n",
       "      <th>Emphysema</th>\n",
       "      <th>Fibrosis</th>\n",
       "      <th>Hernia</th>\n",
       "      <th>Infiltration</th>\n",
       "      <th>Mass</th>\n",
       "      <th>No Finding</th>\n",
       "      <th>Nodule</th>\n",
       "      <th>Pleural_Thickening</th>\n",
       "      <th>Pneumonia</th>\n",
       "      <th>Pneumothorax</th>\n",
       "    </tr>\n",
       "  </thead>\n",
       "  <tbody>\n",
       "    <tr>\n",
       "      <th>1933</th>\n",
       "      <td>00010092_000.png</td>\n",
       "      <td>No Finding</td>\n",
       "      <td>0</td>\n",
       "      <td>10092</td>\n",
       "      <td>046Y</td>\n",
       "      <td>F</td>\n",
       "      <td>PA</td>\n",
       "      <td>2500</td>\n",
       "      <td>2048</td>\n",
       "      <td>0.168</td>\n",
       "      <td>...</td>\n",
       "      <td>0</td>\n",
       "      <td>0</td>\n",
       "      <td>0</td>\n",
       "      <td>0</td>\n",
       "      <td>0</td>\n",
       "      <td>1</td>\n",
       "      <td>0</td>\n",
       "      <td>0</td>\n",
       "      <td>0</td>\n",
       "      <td>0</td>\n",
       "    </tr>\n",
       "    <tr>\n",
       "      <th>3466</th>\n",
       "      <td>00017108_000.png</td>\n",
       "      <td>No Finding</td>\n",
       "      <td>0</td>\n",
       "      <td>17108</td>\n",
       "      <td>064Y</td>\n",
       "      <td>M</td>\n",
       "      <td>PA</td>\n",
       "      <td>2992</td>\n",
       "      <td>2991</td>\n",
       "      <td>0.143</td>\n",
       "      <td>...</td>\n",
       "      <td>0</td>\n",
       "      <td>0</td>\n",
       "      <td>0</td>\n",
       "      <td>0</td>\n",
       "      <td>0</td>\n",
       "      <td>0</td>\n",
       "      <td>0</td>\n",
       "      <td>0</td>\n",
       "      <td>0</td>\n",
       "      <td>0</td>\n",
       "    </tr>\n",
       "    <tr>\n",
       "      <th>3980</th>\n",
       "      <td>00019663_002.png</td>\n",
       "      <td>Atelectasis|Pleural_Thickening</td>\n",
       "      <td>2</td>\n",
       "      <td>19663</td>\n",
       "      <td>076Y</td>\n",
       "      <td>F</td>\n",
       "      <td>PA</td>\n",
       "      <td>2048</td>\n",
       "      <td>2500</td>\n",
       "      <td>0.168</td>\n",
       "      <td>...</td>\n",
       "      <td>0</td>\n",
       "      <td>0</td>\n",
       "      <td>0</td>\n",
       "      <td>0</td>\n",
       "      <td>0</td>\n",
       "      <td>1</td>\n",
       "      <td>0</td>\n",
       "      <td>0</td>\n",
       "      <td>0</td>\n",
       "      <td>0</td>\n",
       "    </tr>\n",
       "  </tbody>\n",
       "</table>\n",
       "<p>3 rows × 26 columns</p>\n",
       "</div>"
      ],
      "text/plain": [
       "           Image Index                  Finding Labels  Follow-up #  \\\n",
       "1933  00010092_000.png                      No Finding            0   \n",
       "3466  00017108_000.png                      No Finding            0   \n",
       "3980  00019663_002.png  Atelectasis|Pleural_Thickening            2   \n",
       "\n",
       "      Patient ID Patient Age Patient Gender View Position  OriginalImageWidth  \\\n",
       "1933       10092        046Y              F            PA                2500   \n",
       "3466       17108        064Y              M            PA                2992   \n",
       "3980       19663        076Y              F            PA                2048   \n",
       "\n",
       "      OriginalImageHeight  OriginalImagePixelSpacing_x  ...  Emphysema  \\\n",
       "1933                 2048                        0.168  ...          0   \n",
       "3466                 2991                        0.143  ...          0   \n",
       "3980                 2500                        0.168  ...          0   \n",
       "\n",
       "      Fibrosis  Hernia  Infiltration  Mass  No Finding  Nodule  \\\n",
       "1933         0       0             0     0           1       0   \n",
       "3466         0       0             0     0           0       0   \n",
       "3980         0       0             0     0           1       0   \n",
       "\n",
       "      Pleural_Thickening  Pneumonia  Pneumothorax  \n",
       "1933                   0          0             0  \n",
       "3466                   0          0             0  \n",
       "3980                   0          0             0  \n",
       "\n",
       "[3 rows x 26 columns]"
      ]
     },
     "execution_count": 45,
     "metadata": {},
     "output_type": "execute_result"
    }
   ],
   "source": [
    "comb_df = sample_df.join(subset_all_df, lsuffix='', rsuffix='_drop')\n",
    "drop_cols = [c for c in comb_df.columns if c.lower()[-4:] == 'drop']\n",
    "comb_df = comb_df.drop(drop_cols, axis=1)\n",
    "comb_df.sample(3)"
   ]
  },
  {
   "cell_type": "code",
   "execution_count": 54,
   "metadata": {},
   "outputs": [
    {
     "name": "stdout",
     "output_type": "stream",
     "text": [
      "Columns (26): Index(['Image Index', 'Finding Labels', 'Follow-up #', 'Patient ID',\n",
      "       'Patient Age', 'Patient Gender', 'View Position', 'OriginalImageWidth',\n",
      "       'OriginalImageHeight', 'OriginalImagePixelSpacing_x',\n",
      "       'OriginalImagePixelSpacing_y', 'Atelectasis', 'Cardiomegaly',\n",
      "       'Consolidation', 'Edema', 'Effusion', 'Emphysema', 'Fibrosis', 'Hernia',\n",
      "       'Infiltration', 'Mass', 'No Finding', 'Nodule', 'Pleural_Thickening',\n",
      "       'Pneumonia', 'Pneumothorax'],\n",
      "      dtype='object')\n"
     ]
    }
   ],
   "source": [
    "print('Columns ({}): {}'.format(len(comb_df.columns), comb_df.columns))"
   ]
  },
  {
   "cell_type": "code",
   "execution_count": 64,
   "metadata": {},
   "outputs": [],
   "source": [
    "# get paths for all images, output is a dic\n",
    "all_image_paths = {os.path.basename(x): x for x in glob.glob(os.path.join('../data', 'images*', '*', '*.png'))}"
   ]
  },
  {
   "cell_type": "code",
   "execution_count": 66,
   "metadata": {},
   "outputs": [
    {
     "data": {
      "text/plain": [
       "dict"
      ]
     },
     "execution_count": 66,
     "metadata": {},
     "output_type": "execute_result"
    }
   ],
   "source": [
    "type(all_image_paths)"
   ]
  }
 ],
 "metadata": {
  "kernelspec": {
   "display_name": "Python 3",
   "language": "python",
   "name": "python3"
  },
  "language_info": {
   "codemirror_mode": {
    "name": "ipython",
    "version": 3
   },
   "file_extension": ".py",
   "mimetype": "text/x-python",
   "name": "python",
   "nbconvert_exporter": "python",
   "pygments_lexer": "ipython3",
   "version": "3.7.5"
  }
 },
 "nbformat": 4,
 "nbformat_minor": 4
}
